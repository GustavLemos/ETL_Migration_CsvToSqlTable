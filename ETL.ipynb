{
 "metadata": {
  "language_info": {
   "codemirror_mode": {
    "name": "ipython",
    "version": 3
   },
   "file_extension": ".py",
   "mimetype": "text/x-python",
   "name": "python",
   "nbconvert_exporter": "python",
   "pygments_lexer": "ipython3",
   "version": "3.9.1"
  },
  "orig_nbformat": 4,
  "kernelspec": {
   "name": "python3",
   "display_name": "Python 3.9.1 64-bit"
  },
  "interpreter": {
   "hash": "33dc6d49505b4536b6a128d9d7c879e1fa44477ad44947bbbe73093067fe6393"
  }
 },
 "nbformat": 4,
 "nbformat_minor": 2,
 "cells": [
  {
   "cell_type": "code",
   "execution_count": null,
   "source": [
    "'''\r\n",
    "Este notebook é responsável por extrair, tranformar e carregar dados de um arquivo csv de um tamanho\r\n",
    "qualquer para um arquivo cvs modificado \r\n",
    "'''"
   ],
   "outputs": [],
   "metadata": {}
  },
  {
   "cell_type": "code",
   "execution_count": null,
   "source": [
    "import pandas as pd\r\n",
    "import numpy as np"
   ],
   "outputs": [],
   "metadata": {}
  },
  {
   "cell_type": "code",
   "execution_count": null,
   "source": [
    "#Lwitura dos Dados\r\n",
    "data = pd.read_csv(\"dataset.csv\", \";\")"
   ],
   "outputs": [],
   "metadata": {}
  },
  {
   "cell_type": "code",
   "execution_count": null,
   "source": [
    "#Criando DataFrame\r\n",
    "df = pd.DataFrame(data,columns=['cod_jornalista','cod_categoria_jornalista','nom_jornalista','dat_vigencia_inicial','dat_vigencia_final'])"
   ],
   "outputs": [],
   "metadata": {}
  },
  {
   "cell_type": "code",
   "execution_count": null,
   "source": [
    "#teste de checagem\r\n",
    "print(df)"
   ],
   "outputs": [],
   "metadata": {}
  },
  {
   "cell_type": "code",
   "execution_count": null,
   "source": [
    "#substituindo valores\r\n",
    "df['coluna'] = df['coluna'].map({'valorAntigo':'valor novo',\r\n",
    "                             'valorAntigo':'valor novo',\r\n",
    "                             'valorAntigo':'valor novo',\r\n",
    "                             np.nan:'valorCampoVazio'},\r\n",
    "                             na_action=None)\r\n",
    "                             "
   ],
   "outputs": [],
   "metadata": {}
  },
  {
   "cell_type": "code",
   "execution_count": 17,
   "source": [
    "#Criando csv de vizualização\r\n",
    "df.to_csv(\"datasetUpdatePreview.csv\")"
   ],
   "outputs": [],
   "metadata": {}
  },
  {
   "cell_type": "code",
   "execution_count": 16,
   "source": [
    "#Criando csv modificado para import\r\n",
    "df.to_csv(\"datasetSQL.csv\",\";\")"
   ],
   "outputs": [],
   "metadata": {}
  }
 ]
}
