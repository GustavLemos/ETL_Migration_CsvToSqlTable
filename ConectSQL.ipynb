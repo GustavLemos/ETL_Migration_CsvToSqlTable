{
 "metadata": {
  "language_info": {
   "codemirror_mode": {
    "name": "ipython",
    "version": 3
   },
   "file_extension": ".py",
   "mimetype": "text/x-python",
   "name": "python",
   "nbconvert_exporter": "python",
   "pygments_lexer": "ipython3",
   "version": 3
  },
  "orig_nbformat": 4
 },
 "nbformat": 4,
 "nbformat_minor": 2,
 "cells": [
  {
   "cell_type": "code",
   "execution_count": null,
   "metadata": {},
   "outputs": [],
   "source": [
    "import pyodbc "
   ]
  },
  {
   "cell_type": "code",
   "execution_count": null,
   "metadata": {},
   "outputs": [],
   "source": [
    "#Conectando SQL Server MCW\n",
    "conn = pyodbc.connect('Driver={SQL Server};'\n",
    "                      'Server=server_name;'\n",
    "                      'Database=database_name;'\n",
    "                      'Trusted_Connection=yes;')"
   ]
  },
  {
   "cell_type": "code",
   "execution_count": null,
   "metadata": {},
   "outputs": [],
   "source": [
    "#teste de query\n",
    "cursor = conn.cursor()\n",
    "cursor.execute('SELECT * FROM database_name.table')\n",
    "\n",
    "for row in cursor:\n",
    "    print(row)"
   ]
  },
  {
   "cell_type": "code",
   "execution_count": null,
   "metadata": {},
   "outputs": [],
   "source": [
    "#Deletar a tabela para não duplicar dados após a importação\n",
    "cursor.execute(\"delete * from {tabela}\")"
   ]
  },
  {
   "cell_type": "code",
   "execution_count": null,
   "metadata": {},
   "outputs": [],
   "source": [
    "#Inserindo Dados\n",
    "cursor.execute(\"bulk insert {tabela} from '{arquivo}' with (fieldterminator = ';', rowterminator = '\\n', firstrow = 1, codepage = 'acp')\")"
   ]
  },
  {
   "cell_type": "code",
   "execution_count": null,
   "metadata": {},
   "outputs": [],
   "source": [
    "#Verifica se os dados foram importandos com sucesso\n",
    "cursor.execute(\"select * from {tabela}\")\n",
    "\n",
    "\n",
    "for row in cursor:\n",
    "    print(row)"
   ]
  }
 ]
}